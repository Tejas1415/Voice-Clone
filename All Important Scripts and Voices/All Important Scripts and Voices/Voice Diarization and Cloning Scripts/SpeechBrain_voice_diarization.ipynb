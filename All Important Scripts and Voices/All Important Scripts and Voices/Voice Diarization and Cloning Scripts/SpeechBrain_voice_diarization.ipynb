{
 "cells": [
  {
   "cell_type": "markdown",
   "metadata": {},
   "source": [
    "SpeechBrain - Use Sepformer to separate overlapped voices and denoise them\n",
    "\n",
    "- pip install speechbrain\n",
    "- Took over 60 mins to do a 5 min audio.\n",
    "- Need to run this on \"Run as Admin\" - then activate env - then start code and run."
   ]
  },
  {
   "cell_type": "code",
   "execution_count": 7,
   "metadata": {},
   "outputs": [],
   "source": [
    "from speechbrain.inference.separation import SepformerSeparation as separator\n",
    "import torchaudio\n",
    "import sounddevice as sd"
   ]
  },
  {
   "cell_type": "code",
   "execution_count": 2,
   "metadata": {},
   "outputs": [],
   "source": [
    "model = separator.from_hparams(source=\"speechbrain/sepformer-wsj02mix\")"
   ]
  },
  {
   "cell_type": "code",
   "execution_count": 5,
   "metadata": {},
   "outputs": [
    {
     "name": "stdout",
     "output_type": "stream",
     "text": [
      "Resampling the audio from 48000 Hz to 8000 Hz\n"
     ]
    }
   ],
   "source": [
    "# for custom file, change path\n",
    "est_sources = model.separate_file(path='multiple_voice.wav')"
   ]
  },
  {
   "cell_type": "code",
   "execution_count": 6,
   "metadata": {},
   "outputs": [
    {
     "name": "stdout",
     "output_type": "stream",
     "text": [
      "tensor([[[ 0.0000e+00,  0.0000e+00],\n",
      "         [ 0.0000e+00,  0.0000e+00],\n",
      "         [ 0.0000e+00,  0.0000e+00],\n",
      "         ...,\n",
      "         [ 3.8546e-05, -3.9968e-05],\n",
      "         [ 1.7644e-05, -3.4395e-05],\n",
      "         [ 9.0104e-07, -2.6598e-05]]])\n"
     ]
    }
   ],
   "source": [
    "print(est_sources)"
   ]
  },
  {
   "cell_type": "code",
   "execution_count": 8,
   "metadata": {},
   "outputs": [
    {
     "data": {
      "text/plain": [
       "tensor([[0.0000e+00, 0.0000e+00, 0.0000e+00,  ..., 3.8546e-05, 1.7644e-05,\n",
       "         9.0104e-07]])"
      ]
     },
     "execution_count": 8,
     "metadata": {},
     "output_type": "execute_result"
    }
   ],
   "source": [
    "est_sources[:, :, 0]"
   ]
  },
  {
   "cell_type": "code",
   "execution_count": 14,
   "metadata": {},
   "outputs": [],
   "source": [
    "def play_wav(waveform, sample_rate, playback_duration=30):\n",
    "    # Define the duration to play (in seconds)\n",
    "    num_samples_to_play =  int(playback_duration * sample_rate)\n",
    "    waveform_to_play = waveform[:, :num_samples_to_play]\n",
    "    \n",
    "    # Convert tensor to numpy array\n",
    "    waveform_np = waveform_to_play.numpy()\n",
    "    \n",
    "    # Check if the waveform has only one channel, if yes, expand it to two channels\n",
    "    if waveform_np.ndim == 1:\n",
    "        waveform_np = waveform_np.reshape(1, -1)\n",
    "\n",
    "    # Play audio\n",
    "    sd.play(waveform_np.T, sample_rate)  # Transpose to match the expected shape (channels, samples)\n",
    "    sd.wait()"
   ]
  },
  {
   "cell_type": "code",
   "execution_count": 15,
   "metadata": {},
   "outputs": [],
   "source": [
    "num_of_distinct_voices = est_sources.shape[2]"
   ]
  },
  {
   "cell_type": "code",
   "execution_count": 21,
   "metadata": {},
   "outputs": [
    {
     "name": "stdout",
     "output_type": "stream",
     "text": [
      "Speaker 0 Voice Playing!!!\n",
      "Speaker 1 Voice Playing!!!\n"
     ]
    }
   ],
   "source": [
    "for i in range(0, num_of_distinct_voices):\n",
    "    print(\"Speaker {} Voice Playing!!!\".format(i))\n",
    "    play_wav(waveform = est_sources[:, :, i].detach().cpu(), sample_rate = 8000, playback_duration=5)\n",
    "\n",
    "    ## Save the files\n",
    "    torchaudio.save(\"multiple_voice_{}_speaker.wav\".format(i), est_sources[:, :, i].detach().cpu(), 8000)"
   ]
  },
  {
   "cell_type": "code",
   "execution_count": null,
   "metadata": {},
   "outputs": [],
   "source": [
    "### The results files are generally full length 5 min files where mostly one voice and muffled voices from the other person (Toned down)! \n",
    "\n",
    "### There were 3 people in multiple_voices.wav where the second audio had both the voices sometimes - especially when the voices were somewhat similar. It's not good quality results - Not sure how to improve."
   ]
  },
  {
   "cell_type": "code",
   "execution_count": null,
   "metadata": {},
   "outputs": [],
   "source": []
  },
  {
   "cell_type": "code",
   "execution_count": null,
   "metadata": {},
   "outputs": [],
   "source": []
  },
  {
   "cell_type": "code",
   "execution_count": null,
   "metadata": {},
   "outputs": [],
   "source": []
  },
  {
   "cell_type": "code",
   "execution_count": null,
   "metadata": {},
   "outputs": [],
   "source": []
  },
  {
   "cell_type": "code",
   "execution_count": null,
   "metadata": {},
   "outputs": [],
   "source": []
  },
  {
   "cell_type": "code",
   "execution_count": null,
   "metadata": {},
   "outputs": [],
   "source": []
  },
  {
   "cell_type": "code",
   "execution_count": null,
   "metadata": {},
   "outputs": [],
   "source": []
  }
 ],
 "metadata": {
  "kernelspec": {
   "display_name": "Python 3",
   "language": "python",
   "name": "python3"
  },
  "language_info": {
   "codemirror_mode": {
    "name": "ipython",
    "version": 3
   },
   "file_extension": ".py",
   "mimetype": "text/x-python",
   "name": "python",
   "nbconvert_exporter": "python",
   "pygments_lexer": "ipython3",
   "version": "3.10.9"
  },
  "vscode": {
   "interpreter": {
    "hash": "d803aa8052b7b977dfa4302a7282d7b4d58e11e17159b87250602a3fd8423c4f"
   }
  }
 },
 "nbformat": 4,
 "nbformat_minor": 2
}
